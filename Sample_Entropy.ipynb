{
 "cells": [
  {
   "cell_type": "markdown",
   "metadata": {},
   "source": [
    "# Sample_Entropy"
   ]
  },
  {
   "cell_type": "markdown",
   "metadata": {},
   "source": [
    "기본 예제를 통해 시계열 데이터에서 tsfresh 가 어떻게 특징값을 추출하고 사용할 수 있는지를 배우고 sample entropy값을 추출해봅니다.\n",
    "\n",
    "로봇 실행 실패 데이터 셋을 사용해봅시다!"
   ]
  },
  {
   "cell_type": "code",
   "execution_count": 1,
   "metadata": {},
   "outputs": [],
   "source": [
    "%matplotlib inline\n",
    "\n",
    "import numpy as np\n",
    "import matplotlib.pylab as plt\n",
    "\n",
    "from tsfresh import extract_features, extract_relevant_features, select_features\n",
    "from tsfresh.utilities.dataframe_functions import impute\n",
    "from tsfresh.feature_extraction import ComprehensiveFCParameters\n",
    "\n",
    "from sklearn.tree import DecisionTreeClassifier\n",
    "from sklearn.model_selection import train_test_split\n",
    "from sklearn.metrics import classification_report"
   ]
  },
  {
   "cell_type": "markdown",
   "metadata": {},
   "source": [
    "# Load and visualize data"
   ]
  },
  {
   "cell_type": "markdown",
   "metadata": {},
   "source": [
    "데이터 셋에 대하여\n",
    "88가지 종류의 로봇(id = 1~88)이 실행을 성공했을 때(y = True)와 실패했을 때(y = False) 각 실행 마다 15 개(행)의 힘(F) 및 토크(T) 샘플이 제공되며, 이는 x, y 및 z축에 대해 일정한 시간 간격으로 측정되었다. 따라서 데이터 프레임의 각 행은 특정 실행(id), 시간 인덱스(time)를 가지고 6개 센서(F_x, F_y, F_z, T_x, T_y, T_z)의 각 측정을 포함한다.\n",
    "\n",
    "** y : 로봇 실행이 성공했냐, 실패했냐. True, False로 구분되며 총 88개의 값\n",
    "\n",
    "** df(x) :\n",
    "\n",
    "- id : 실행 횟수(1~88번)\n",
    "- time : 각 실행당 0~14\n",
    "- F_x, F_y, F_z, T_x, T_y, T_z : 각 실행했을 때 힘(F) 및 토크(T) 센서 값."
   ]
  },
  {
   "cell_type": "code",
   "execution_count": 2,
   "metadata": {},
   "outputs": [
    {
     "data": {
      "text/html": [
       "<div>\n",
       "<style scoped>\n",
       "    .dataframe tbody tr th:only-of-type {\n",
       "        vertical-align: middle;\n",
       "    }\n",
       "\n",
       "    .dataframe tbody tr th {\n",
       "        vertical-align: top;\n",
       "    }\n",
       "\n",
       "    .dataframe thead th {\n",
       "        text-align: right;\n",
       "    }\n",
       "</style>\n",
       "<table border=\"1\" class=\"dataframe\">\n",
       "  <thead>\n",
       "    <tr style=\"text-align: right;\">\n",
       "      <th></th>\n",
       "      <th>id</th>\n",
       "      <th>time</th>\n",
       "      <th>F_x</th>\n",
       "      <th>F_y</th>\n",
       "      <th>F_z</th>\n",
       "      <th>T_x</th>\n",
       "      <th>T_y</th>\n",
       "      <th>T_z</th>\n",
       "    </tr>\n",
       "  </thead>\n",
       "  <tbody>\n",
       "    <tr>\n",
       "      <th>0</th>\n",
       "      <td>1</td>\n",
       "      <td>0</td>\n",
       "      <td>-1</td>\n",
       "      <td>-1</td>\n",
       "      <td>63</td>\n",
       "      <td>-3</td>\n",
       "      <td>-1</td>\n",
       "      <td>0</td>\n",
       "    </tr>\n",
       "    <tr>\n",
       "      <th>1</th>\n",
       "      <td>1</td>\n",
       "      <td>1</td>\n",
       "      <td>0</td>\n",
       "      <td>0</td>\n",
       "      <td>62</td>\n",
       "      <td>-3</td>\n",
       "      <td>-1</td>\n",
       "      <td>0</td>\n",
       "    </tr>\n",
       "    <tr>\n",
       "      <th>2</th>\n",
       "      <td>1</td>\n",
       "      <td>2</td>\n",
       "      <td>-1</td>\n",
       "      <td>-1</td>\n",
       "      <td>61</td>\n",
       "      <td>-3</td>\n",
       "      <td>0</td>\n",
       "      <td>0</td>\n",
       "    </tr>\n",
       "    <tr>\n",
       "      <th>3</th>\n",
       "      <td>1</td>\n",
       "      <td>3</td>\n",
       "      <td>-1</td>\n",
       "      <td>-1</td>\n",
       "      <td>63</td>\n",
       "      <td>-2</td>\n",
       "      <td>-1</td>\n",
       "      <td>0</td>\n",
       "    </tr>\n",
       "    <tr>\n",
       "      <th>4</th>\n",
       "      <td>1</td>\n",
       "      <td>4</td>\n",
       "      <td>-1</td>\n",
       "      <td>-1</td>\n",
       "      <td>63</td>\n",
       "      <td>-3</td>\n",
       "      <td>-1</td>\n",
       "      <td>0</td>\n",
       "    </tr>\n",
       "  </tbody>\n",
       "</table>\n",
       "</div>"
      ],
      "text/plain": [
       "   id  time  F_x  F_y  F_z  T_x  T_y  T_z\n",
       "0   1     0   -1   -1   63   -3   -1    0\n",
       "1   1     1    0    0   62   -3   -1    0\n",
       "2   1     2   -1   -1   61   -3    0    0\n",
       "3   1     3   -1   -1   63   -2   -1    0\n",
       "4   1     4   -1   -1   63   -3   -1    0"
      ]
     },
     "metadata": {},
     "output_type": "display_data"
    },
    {
     "name": "stdout",
     "output_type": "stream",
     "text": [
      "(1320, 8)\n"
     ]
    }
   ],
   "source": [
    "# 데이터 다운로드\n",
    "from tsfresh.examples import robot_execution_failures\n",
    "\n",
    "robot_execution_failures.download_robot_execution_failures()\n",
    "df, y = robot_execution_failures.load_robot_execution_failures()\n",
    "display(df.head())\n",
    "# display(df)\n",
    "print(np.shape(df))"
   ]
  },
  {
   "cell_type": "code",
   "execution_count": 3,
   "metadata": {},
   "outputs": [
    {
     "data": {
      "text/plain": [
       "1      True\n",
       "2      True\n",
       "3      True\n",
       "4      True\n",
       "5      True\n",
       "      ...  \n",
       "84    False\n",
       "85    False\n",
       "86    False\n",
       "87    False\n",
       "88    False\n",
       "Length: 88, dtype: bool"
      ]
     },
     "execution_count": 3,
     "metadata": {},
     "output_type": "execute_result"
    }
   ],
   "source": [
    "y"
   ]
  },
  {
   "cell_type": "code",
   "execution_count": 4,
   "metadata": {},
   "outputs": [
    {
     "name": "stdout",
     "output_type": "stream",
     "text": [
      "(88,)\n",
      "<class 'pandas.core.series.Series'>\n"
     ]
    }
   ],
   "source": [
    "print(y.shape)\n",
    "print(type(y))"
   ]
  },
  {
   "cell_type": "markdown",
   "metadata": {},
   "source": [
    "먼저 로봇 실행을 성공했을 때와 실패했을 때의 센서값을 그려서 차이가 있는지 눈으로 확인해봅시다!\n",
    "\n",
    "성공했을 때는 F_z값이 60 근처에서, 나머지 값들은 0 근처에서 나오는데, 실패하면 F_z값이 확 떨어져서 나오거나 나머지 값들도 거의 0에서 벗어나지 않음"
   ]
  },
  {
   "cell_type": "code",
   "execution_count": 5,
   "metadata": {},
   "outputs": [
    {
     "data": {
      "image/png": "[encoded data removed]",
      "text/plain": [
       "<Figure size 720x288 with 1 Axes>"
      ]
     },
     "metadata": {
      "needs_background": "light"
     },
     "output_type": "display_data"
    },
    {
     "data": {
      "image/png": "[encoded data removed]",
      "text/plain": [
       "<Figure size 720x288 with 1 Axes>"
      ]
     },
     "metadata": {
      "needs_background": "light"
     },
     "output_type": "display_data"
    }
   ],
   "source": [
    "df[df.id == 3][['time', 'F_x', 'F_y', 'F_z', 'T_x', 'T_y', 'T_z']].plot(x='time', title='Success example (id 3)', figsize=(10, 4));\n",
    "df[df.id == 20][['time', 'F_x', 'F_y', 'F_z', 'T_x', 'T_y', 'T_z']].plot(x='time', title='Failure example (id 20)', figsize=(10, 4));"
   ]
  },
  {
   "cell_type": "markdown",
   "metadata": {},
   "source": [
    "# Extract Features"
   ]
  },
  {
   "cell_type": "markdown",
   "metadata": {},
   "source": [
    "tsfresh를 사용하여 시계열 데이터의 특징을 추출 할 수 있다. 각 로봇(id)과 측정 된 각 센서 값(F_ * 및 T_ *)에 대한 특징을 추출할 것이다.\n",
    "\n",
    "같은 id 별로, 그리고 각 센서축(열)별로 특징 값을 추출하게 된다. time 열을 기준으로 시간순으로 정렬해서 추출하게 된다.\n",
    "\n",
    "추출할 특징 값들 중에서 sample_entropy만 추출한다."
   ]
  },
  {
   "cell_type": "code",
   "execution_count": 6,
   "metadata": {},
   "outputs": [],
   "source": [
    "# sample entropy\n",
    "sampen_settings = {'sample_entropy': None}"
   ]
  },
  {
   "cell_type": "code",
   "execution_count": 7,
   "metadata": {},
   "outputs": [
    {
     "name": "stderr",
     "output_type": "stream",
     "text": [
      "Feature Extraction: 100%|██████████| 48/48 [00:00<00:00, 186.95it/s]\n"
     ]
    }
   ],
   "source": [
    "sample_entropy = extract_features(df, column_id='id', column_sort='time',\n",
    "                     default_fc_parameters=sampen_settings,\n",
    "                     # we impute = remove all NaN features automatically\n",
    "                     impute_function=impute)"
   ]
  },
  {
   "cell_type": "code",
   "execution_count": 8,
   "metadata": {},
   "outputs": [
    {
     "data": {
      "text/html": [
       "<div>\n",
       "<style scoped>\n",
       "    .dataframe tbody tr th:only-of-type {\n",
       "        vertical-align: middle;\n",
       "    }\n",
       "\n",
       "    .dataframe tbody tr th {\n",
       "        vertical-align: top;\n",
       "    }\n",
       "\n",
       "    .dataframe thead th {\n",
       "        text-align: right;\n",
       "    }\n",
       "</style>\n",
       "<table border=\"1\" class=\"dataframe\">\n",
       "  <thead>\n",
       "    <tr style=\"text-align: right;\">\n",
       "      <th></th>\n",
       "      <th>T_z__sample_entropy</th>\n",
       "      <th>F_x__sample_entropy</th>\n",
       "      <th>F_y__sample_entropy</th>\n",
       "      <th>F_z__sample_entropy</th>\n",
       "      <th>T_x__sample_entropy</th>\n",
       "      <th>T_y__sample_entropy</th>\n",
       "    </tr>\n",
       "  </thead>\n",
       "  <tbody>\n",
       "    <tr>\n",
       "      <th>1</th>\n",
       "      <td>0.154151</td>\n",
       "      <td>0.182322</td>\n",
       "      <td>0.218689</td>\n",
       "      <td>0.510826</td>\n",
       "      <td>0.414434</td>\n",
       "      <td>0.606136</td>\n",
       "    </tr>\n",
       "    <tr>\n",
       "      <th>2</th>\n",
       "      <td>0.661398</td>\n",
       "      <td>1.011601</td>\n",
       "      <td>1.945910</td>\n",
       "      <td>0.437900</td>\n",
       "      <td>0.414434</td>\n",
       "      <td>2.079442</td>\n",
       "    </tr>\n",
       "    <tr>\n",
       "      <th>3</th>\n",
       "      <td>0.730888</td>\n",
       "      <td>0.847298</td>\n",
       "      <td>1.945910</td>\n",
       "      <td>0.437900</td>\n",
       "      <td>1.609438</td>\n",
       "      <td>2.079442</td>\n",
       "    </tr>\n",
       "    <tr>\n",
       "      <th>4</th>\n",
       "      <td>1.178655</td>\n",
       "      <td>1.945910</td>\n",
       "      <td>1.945910</td>\n",
       "      <td>0.437900</td>\n",
       "      <td>0.414434</td>\n",
       "      <td>0.693147</td>\n",
       "    </tr>\n",
       "    <tr>\n",
       "      <th>5</th>\n",
       "      <td>1.446919</td>\n",
       "      <td>1.466337</td>\n",
       "      <td>0.656093</td>\n",
       "      <td>1.504077</td>\n",
       "      <td>1.609438</td>\n",
       "      <td>2.079442</td>\n",
       "    </tr>\n",
       "    <tr>\n",
       "      <th>...</th>\n",
       "      <td>...</td>\n",
       "      <td>...</td>\n",
       "      <td>...</td>\n",
       "      <td>...</td>\n",
       "      <td>...</td>\n",
       "      <td>...</td>\n",
       "    </tr>\n",
       "    <tr>\n",
       "      <th>84</th>\n",
       "      <td>0.753772</td>\n",
       "      <td>0.538997</td>\n",
       "      <td>0.405465</td>\n",
       "      <td>0.451985</td>\n",
       "      <td>0.336472</td>\n",
       "      <td>0.693147</td>\n",
       "    </tr>\n",
       "    <tr>\n",
       "      <th>85</th>\n",
       "      <td>0.606136</td>\n",
       "      <td>0.693147</td>\n",
       "      <td>0.693147</td>\n",
       "      <td>1.504077</td>\n",
       "      <td>1.609438</td>\n",
       "      <td>0.693147</td>\n",
       "    </tr>\n",
       "    <tr>\n",
       "      <th>86</th>\n",
       "      <td>0.492476</td>\n",
       "      <td>0.182322</td>\n",
       "      <td>1.945910</td>\n",
       "      <td>0.405465</td>\n",
       "      <td>0.414434</td>\n",
       "      <td>0.510826</td>\n",
       "    </tr>\n",
       "    <tr>\n",
       "      <th>87</th>\n",
       "      <td>2.302585</td>\n",
       "      <td>0.287682</td>\n",
       "      <td>0.405465</td>\n",
       "      <td>0.310155</td>\n",
       "      <td>0.414434</td>\n",
       "      <td>0.810930</td>\n",
       "    </tr>\n",
       "    <tr>\n",
       "      <th>88</th>\n",
       "      <td>0.864997</td>\n",
       "      <td>1.098612</td>\n",
       "      <td>0.693147</td>\n",
       "      <td>0.693147</td>\n",
       "      <td>0.414434</td>\n",
       "      <td>2.079442</td>\n",
       "    </tr>\n",
       "  </tbody>\n",
       "</table>\n",
       "<p>88 rows × 6 columns</p>\n",
       "</div>"
      ],
      "text/plain": [
       "    T_z__sample_entropy  F_x__sample_entropy  F_y__sample_entropy  \\\n",
       "1              0.154151             0.182322             0.218689   \n",
       "2              0.661398             1.011601             1.945910   \n",
       "3              0.730888             0.847298             1.945910   \n",
       "4              1.178655             1.945910             1.945910   \n",
       "5              1.446919             1.466337             0.656093   \n",
       "..                  ...                  ...                  ...   \n",
       "84             0.753772             0.538997             0.405465   \n",
       "85             0.606136             0.693147             0.693147   \n",
       "86             0.492476             0.182322             1.945910   \n",
       "87             2.302585             0.287682             0.405465   \n",
       "88             0.864997             1.098612             0.693147   \n",
       "\n",
       "    F_z__sample_entropy  T_x__sample_entropy  T_y__sample_entropy  \n",
       "1              0.510826             0.414434             0.606136  \n",
       "2              0.437900             0.414434             2.079442  \n",
       "3              0.437900             1.609438             2.079442  \n",
       "4              0.437900             0.414434             0.693147  \n",
       "5              1.504077             1.609438             2.079442  \n",
       "..                  ...                  ...                  ...  \n",
       "84             0.451985             0.336472             0.693147  \n",
       "85             1.504077             1.609438             0.693147  \n",
       "86             0.405465             0.414434             0.510826  \n",
       "87             0.310155             0.414434             0.810930  \n",
       "88             0.693147             0.414434             2.079442  \n",
       "\n",
       "[88 rows x 6 columns]"
      ]
     },
     "execution_count": 8,
     "metadata": {},
     "output_type": "execute_result"
    }
   ],
   "source": [
    "sample_entropy"
   ]
  },
  {
   "cell_type": "code",
   "execution_count": 9,
   "metadata": {},
   "outputs": [
    {
     "data": {
      "text/html": [
       "<div>\n",
       "<style scoped>\n",
       "    .dataframe tbody tr th:only-of-type {\n",
       "        vertical-align: middle;\n",
       "    }\n",
       "\n",
       "    .dataframe tbody tr th {\n",
       "        vertical-align: top;\n",
       "    }\n",
       "\n",
       "    .dataframe thead th {\n",
       "        text-align: right;\n",
       "    }\n",
       "</style>\n",
       "<table border=\"1\" class=\"dataframe\">\n",
       "  <thead>\n",
       "    <tr style=\"text-align: right;\">\n",
       "      <th></th>\n",
       "      <th>T_z__sample_entropy</th>\n",
       "      <th>F_x__sample_entropy</th>\n",
       "      <th>F_y__sample_entropy</th>\n",
       "      <th>F_z__sample_entropy</th>\n",
       "      <th>T_x__sample_entropy</th>\n",
       "      <th>T_y__sample_entropy</th>\n",
       "    </tr>\n",
       "  </thead>\n",
       "  <tbody>\n",
       "    <tr>\n",
       "      <th>1</th>\n",
       "      <td>0.154151</td>\n",
       "      <td>0.182322</td>\n",
       "      <td>0.218689</td>\n",
       "      <td>0.510826</td>\n",
       "      <td>0.414434</td>\n",
       "      <td>0.606136</td>\n",
       "    </tr>\n",
       "    <tr>\n",
       "      <th>2</th>\n",
       "      <td>0.661398</td>\n",
       "      <td>1.011601</td>\n",
       "      <td>1.945910</td>\n",
       "      <td>0.437900</td>\n",
       "      <td>0.414434</td>\n",
       "      <td>2.079442</td>\n",
       "    </tr>\n",
       "    <tr>\n",
       "      <th>3</th>\n",
       "      <td>0.730888</td>\n",
       "      <td>0.847298</td>\n",
       "      <td>1.945910</td>\n",
       "      <td>0.437900</td>\n",
       "      <td>1.609438</td>\n",
       "      <td>2.079442</td>\n",
       "    </tr>\n",
       "    <tr>\n",
       "      <th>4</th>\n",
       "      <td>1.178655</td>\n",
       "      <td>1.945910</td>\n",
       "      <td>1.945910</td>\n",
       "      <td>0.437900</td>\n",
       "      <td>0.414434</td>\n",
       "      <td>0.693147</td>\n",
       "    </tr>\n",
       "    <tr>\n",
       "      <th>5</th>\n",
       "      <td>1.446919</td>\n",
       "      <td>1.466337</td>\n",
       "      <td>0.656093</td>\n",
       "      <td>1.504077</td>\n",
       "      <td>1.609438</td>\n",
       "      <td>2.079442</td>\n",
       "    </tr>\n",
       "  </tbody>\n",
       "</table>\n",
       "</div>"
      ],
      "text/plain": [
       "   T_z__sample_entropy  F_x__sample_entropy  F_y__sample_entropy  \\\n",
       "1             0.154151             0.182322             0.218689   \n",
       "2             0.661398             1.011601             1.945910   \n",
       "3             0.730888             0.847298             1.945910   \n",
       "4             1.178655             1.945910             1.945910   \n",
       "5             1.446919             1.466337             0.656093   \n",
       "\n",
       "   F_z__sample_entropy  T_x__sample_entropy  T_y__sample_entropy  \n",
       "1             0.510826             0.414434             0.606136  \n",
       "2             0.437900             0.414434             2.079442  \n",
       "3             0.437900             1.609438             2.079442  \n",
       "4             0.437900             0.414434             0.693147  \n",
       "5             1.504077             1.609438             2.079442  "
      ]
     },
     "execution_count": 9,
     "metadata": {},
     "output_type": "execute_result"
    }
   ],
   "source": [
    "sample_entropy.head()"
   ]
  },
  {
   "cell_type": "code",
   "execution_count": 10,
   "metadata": {
    "scrolled": true
   },
   "outputs": [
    {
     "data": {
      "text/plain": [
       "(88, 6)"
      ]
     },
     "execution_count": 10,
     "metadata": {},
     "output_type": "execute_result"
    }
   ],
   "source": [
    "sample_entropy.shape"
   ]
  },
  {
   "cell_type": "markdown",
   "metadata": {},
   "source": [
    "settings에서 sample_entropy 변수를 none으로 했기 때문에 6개 columns만 나왔다."
   ]
  },
  {
   "cell_type": "markdown",
   "metadata": {},
   "source": [
    "tsfresh를 사용해 sample_entropy 값과 sample_entropy함수를 사용해 구한 값을 비교해본다."
   ]
  },
  {
   "cell_type": "code",
   "execution_count": 11,
   "metadata": {
    "scrolled": true
   },
   "outputs": [
    {
     "data": {
      "text/html": [
       "<div>\n",
       "<style scoped>\n",
       "    .dataframe tbody tr th:only-of-type {\n",
       "        vertical-align: middle;\n",
       "    }\n",
       "\n",
       "    .dataframe tbody tr th {\n",
       "        vertical-align: top;\n",
       "    }\n",
       "\n",
       "    .dataframe thead th {\n",
       "        text-align: right;\n",
       "    }\n",
       "</style>\n",
       "<table border=\"1\" class=\"dataframe\">\n",
       "  <thead>\n",
       "    <tr style=\"text-align: right;\">\n",
       "      <th></th>\n",
       "      <th>id</th>\n",
       "      <th>time</th>\n",
       "      <th>F_x</th>\n",
       "      <th>F_y</th>\n",
       "      <th>F_z</th>\n",
       "      <th>T_x</th>\n",
       "      <th>T_y</th>\n",
       "      <th>T_z</th>\n",
       "    </tr>\n",
       "  </thead>\n",
       "  <tbody>\n",
       "    <tr>\n",
       "      <th>0</th>\n",
       "      <td>1</td>\n",
       "      <td>0</td>\n",
       "      <td>-1</td>\n",
       "      <td>-1</td>\n",
       "      <td>63</td>\n",
       "      <td>-3</td>\n",
       "      <td>-1</td>\n",
       "      <td>0</td>\n",
       "    </tr>\n",
       "    <tr>\n",
       "      <th>1</th>\n",
       "      <td>1</td>\n",
       "      <td>1</td>\n",
       "      <td>0</td>\n",
       "      <td>0</td>\n",
       "      <td>62</td>\n",
       "      <td>-3</td>\n",
       "      <td>-1</td>\n",
       "      <td>0</td>\n",
       "    </tr>\n",
       "    <tr>\n",
       "      <th>2</th>\n",
       "      <td>1</td>\n",
       "      <td>2</td>\n",
       "      <td>-1</td>\n",
       "      <td>-1</td>\n",
       "      <td>61</td>\n",
       "      <td>-3</td>\n",
       "      <td>0</td>\n",
       "      <td>0</td>\n",
       "    </tr>\n",
       "    <tr>\n",
       "      <th>3</th>\n",
       "      <td>1</td>\n",
       "      <td>3</td>\n",
       "      <td>-1</td>\n",
       "      <td>-1</td>\n",
       "      <td>63</td>\n",
       "      <td>-2</td>\n",
       "      <td>-1</td>\n",
       "      <td>0</td>\n",
       "    </tr>\n",
       "    <tr>\n",
       "      <th>4</th>\n",
       "      <td>1</td>\n",
       "      <td>4</td>\n",
       "      <td>-1</td>\n",
       "      <td>-1</td>\n",
       "      <td>63</td>\n",
       "      <td>-3</td>\n",
       "      <td>-1</td>\n",
       "      <td>0</td>\n",
       "    </tr>\n",
       "    <tr>\n",
       "      <th>...</th>\n",
       "      <td>...</td>\n",
       "      <td>...</td>\n",
       "      <td>...</td>\n",
       "      <td>...</td>\n",
       "      <td>...</td>\n",
       "      <td>...</td>\n",
       "      <td>...</td>\n",
       "      <td>...</td>\n",
       "    </tr>\n",
       "    <tr>\n",
       "      <th>1315</th>\n",
       "      <td>88</td>\n",
       "      <td>10</td>\n",
       "      <td>-10</td>\n",
       "      <td>2</td>\n",
       "      <td>39</td>\n",
       "      <td>-21</td>\n",
       "      <td>-24</td>\n",
       "      <td>5</td>\n",
       "    </tr>\n",
       "    <tr>\n",
       "      <th>1316</th>\n",
       "      <td>88</td>\n",
       "      <td>11</td>\n",
       "      <td>-11</td>\n",
       "      <td>2</td>\n",
       "      <td>38</td>\n",
       "      <td>-24</td>\n",
       "      <td>-22</td>\n",
       "      <td>6</td>\n",
       "    </tr>\n",
       "    <tr>\n",
       "      <th>1317</th>\n",
       "      <td>88</td>\n",
       "      <td>12</td>\n",
       "      <td>-12</td>\n",
       "      <td>3</td>\n",
       "      <td>23</td>\n",
       "      <td>-24</td>\n",
       "      <td>-24</td>\n",
       "      <td>5</td>\n",
       "    </tr>\n",
       "    <tr>\n",
       "      <th>1318</th>\n",
       "      <td>88</td>\n",
       "      <td>13</td>\n",
       "      <td>-13</td>\n",
       "      <td>4</td>\n",
       "      <td>26</td>\n",
       "      <td>-29</td>\n",
       "      <td>-27</td>\n",
       "      <td>5</td>\n",
       "    </tr>\n",
       "    <tr>\n",
       "      <th>1319</th>\n",
       "      <td>88</td>\n",
       "      <td>14</td>\n",
       "      <td>-13</td>\n",
       "      <td>2</td>\n",
       "      <td>15</td>\n",
       "      <td>-25</td>\n",
       "      <td>-25</td>\n",
       "      <td>6</td>\n",
       "    </tr>\n",
       "  </tbody>\n",
       "</table>\n",
       "<p>1320 rows × 8 columns</p>\n",
       "</div>"
      ],
      "text/plain": [
       "      id  time  F_x  F_y  F_z  T_x  T_y  T_z\n",
       "0      1     0   -1   -1   63   -3   -1    0\n",
       "1      1     1    0    0   62   -3   -1    0\n",
       "2      1     2   -1   -1   61   -3    0    0\n",
       "3      1     3   -1   -1   63   -2   -1    0\n",
       "4      1     4   -1   -1   63   -3   -1    0\n",
       "...   ..   ...  ...  ...  ...  ...  ...  ...\n",
       "1315  88    10  -10    2   39  -21  -24    5\n",
       "1316  88    11  -11    2   38  -24  -22    6\n",
       "1317  88    12  -12    3   23  -24  -24    5\n",
       "1318  88    13  -13    4   26  -29  -27    5\n",
       "1319  88    14  -13    2   15  -25  -25    6\n",
       "\n",
       "[1320 rows x 8 columns]"
      ]
     },
     "execution_count": 11,
     "metadata": {},
     "output_type": "execute_result"
    }
   ],
   "source": [
    "df"
   ]
  },
  {
   "cell_type": "code",
   "execution_count": 12,
   "metadata": {},
   "outputs": [],
   "source": [
    "df2 = df[['id','time','F_y']] #원래 가진 data에서 'id', 'time', 'F_y' 만 뽑아서 df2로 설정"
   ]
  },
  {
   "cell_type": "code",
   "execution_count": 13,
   "metadata": {},
   "outputs": [],
   "source": [
    "df2 = df2[df2['id'] == 1] #df2에서 다시 'id=1'인 것만 뽑아보려고 한다 (id는 1~88까지 존재)"
   ]
  },
  {
   "cell_type": "code",
   "execution_count": 14,
   "metadata": {},
   "outputs": [
    {
     "data": {
      "text/html": [
       "<div>\n",
       "<style scoped>\n",
       "    .dataframe tbody tr th:only-of-type {\n",
       "        vertical-align: middle;\n",
       "    }\n",
       "\n",
       "    .dataframe tbody tr th {\n",
       "        vertical-align: top;\n",
       "    }\n",
       "\n",
       "    .dataframe thead th {\n",
       "        text-align: right;\n",
       "    }\n",
       "</style>\n",
       "<table border=\"1\" class=\"dataframe\">\n",
       "  <thead>\n",
       "    <tr style=\"text-align: right;\">\n",
       "      <th></th>\n",
       "      <th>id</th>\n",
       "      <th>time</th>\n",
       "      <th>F_y</th>\n",
       "    </tr>\n",
       "  </thead>\n",
       "  <tbody>\n",
       "    <tr>\n",
       "      <th>0</th>\n",
       "      <td>1</td>\n",
       "      <td>0</td>\n",
       "      <td>-1</td>\n",
       "    </tr>\n",
       "    <tr>\n",
       "      <th>1</th>\n",
       "      <td>1</td>\n",
       "      <td>1</td>\n",
       "      <td>0</td>\n",
       "    </tr>\n",
       "    <tr>\n",
       "      <th>2</th>\n",
       "      <td>1</td>\n",
       "      <td>2</td>\n",
       "      <td>-1</td>\n",
       "    </tr>\n",
       "    <tr>\n",
       "      <th>3</th>\n",
       "      <td>1</td>\n",
       "      <td>3</td>\n",
       "      <td>-1</td>\n",
       "    </tr>\n",
       "    <tr>\n",
       "      <th>4</th>\n",
       "      <td>1</td>\n",
       "      <td>4</td>\n",
       "      <td>-1</td>\n",
       "    </tr>\n",
       "    <tr>\n",
       "      <th>5</th>\n",
       "      <td>1</td>\n",
       "      <td>5</td>\n",
       "      <td>-1</td>\n",
       "    </tr>\n",
       "    <tr>\n",
       "      <th>6</th>\n",
       "      <td>1</td>\n",
       "      <td>6</td>\n",
       "      <td>-1</td>\n",
       "    </tr>\n",
       "    <tr>\n",
       "      <th>7</th>\n",
       "      <td>1</td>\n",
       "      <td>7</td>\n",
       "      <td>-1</td>\n",
       "    </tr>\n",
       "    <tr>\n",
       "      <th>8</th>\n",
       "      <td>1</td>\n",
       "      <td>8</td>\n",
       "      <td>-1</td>\n",
       "    </tr>\n",
       "    <tr>\n",
       "      <th>9</th>\n",
       "      <td>1</td>\n",
       "      <td>9</td>\n",
       "      <td>-1</td>\n",
       "    </tr>\n",
       "    <tr>\n",
       "      <th>10</th>\n",
       "      <td>1</td>\n",
       "      <td>10</td>\n",
       "      <td>-1</td>\n",
       "    </tr>\n",
       "    <tr>\n",
       "      <th>11</th>\n",
       "      <td>1</td>\n",
       "      <td>11</td>\n",
       "      <td>-1</td>\n",
       "    </tr>\n",
       "    <tr>\n",
       "      <th>12</th>\n",
       "      <td>1</td>\n",
       "      <td>12</td>\n",
       "      <td>-1</td>\n",
       "    </tr>\n",
       "    <tr>\n",
       "      <th>13</th>\n",
       "      <td>1</td>\n",
       "      <td>13</td>\n",
       "      <td>-1</td>\n",
       "    </tr>\n",
       "    <tr>\n",
       "      <th>14</th>\n",
       "      <td>1</td>\n",
       "      <td>14</td>\n",
       "      <td>0</td>\n",
       "    </tr>\n",
       "  </tbody>\n",
       "</table>\n",
       "</div>"
      ],
      "text/plain": [
       "    id  time  F_y\n",
       "0    1     0   -1\n",
       "1    1     1    0\n",
       "2    1     2   -1\n",
       "3    1     3   -1\n",
       "4    1     4   -1\n",
       "5    1     5   -1\n",
       "6    1     6   -1\n",
       "7    1     7   -1\n",
       "8    1     8   -1\n",
       "9    1     9   -1\n",
       "10   1    10   -1\n",
       "11   1    11   -1\n",
       "12   1    12   -1\n",
       "13   1    13   -1\n",
       "14   1    14    0"
      ]
     },
     "execution_count": 14,
     "metadata": {},
     "output_type": "execute_result"
    }
   ],
   "source": [
    "df2"
   ]
  },
  {
   "cell_type": "markdown",
   "metadata": {},
   "source": [
    "구하고 싶은 데이터를 자른 모습이다.\n",
    "\n",
    "sample_entropy 함수에 넣기 위해 데이터를 np.array로 변환한다."
   ]
  },
  {
   "cell_type": "code",
   "execution_count": 15,
   "metadata": {},
   "outputs": [],
   "source": [
    "a = df2['F_y'].to_list() # df2에서 실제로 들어가는 값은 sensor가 인지한 'F_y'값이기에 'F_y' 값만 간추려서 list형으로 만든다"
   ]
  },
  {
   "cell_type": "code",
   "execution_count": 16,
   "metadata": {},
   "outputs": [
    {
     "data": {
      "text/plain": [
       "array([-1,  0, -1, -1, -1, -1, -1, -1, -1, -1, -1, -1, -1, -1,  0])"
      ]
     },
     "execution_count": 16,
     "metadata": {},
     "output_type": "execute_result"
    }
   ],
   "source": [
    "a = np.array(a) #np.array로 바꾼다\n",
    "a"
   ]
  },
  {
   "cell_type": "markdown",
   "metadata": {},
   "source": [
    "sample entropy 함수를 사용해 sample entropy 값을 구한다."
   ]
  },
  {
   "cell_type": "markdown",
   "metadata": {},
   "source": [
    "_into_subchunks() 함수는\n",
    "sample_entropy 함수를 실행하기 위해 필요한 함수.\n",
    "시계열 데이터 x를 subchunk_length 길이를 가진 데이터로 나누고\n",
    "각 하위 데이터의 시작 데이터는 전체 데이터에서 every_n씩 지나가면서 정해서 x를 subwindows로 분할한다."
   ]
  },
  {
   "cell_type": "code",
   "execution_count": 17,
   "metadata": {},
   "outputs": [],
   "source": [
    "def _into_subchunks(x, subchunk_length, every_n=1):\n",
    "    len_x = len(x) # 데이터의 길이\n",
    "#     print(\"len_x:\",len_x)\n",
    "\n",
    "    assert subchunk_length > 1 # 나눠질 각 데이터의 길이가 2 이상이어야 작동한다.\n",
    "    assert every_n > 0 # 하위데이터는 1씩 이동하면서 시작 데이터를 정한다.\n",
    "\n",
    "    # how often can we shift a window of size subchunk_length over the input?\n",
    "    num_shifts = (len_x - subchunk_length) // every_n + 1 # 데이터가 생성된 횟수\n",
    "#     print(\"num_shifts:\",num_shifts)\n",
    "    shift_starts = every_n * np.arange(num_shifts) #하위데이터의 시작데이터 인덱스 리스트\n",
    "#     print(\"shift_starts:\",shift_starts)\n",
    "    indices = np.arange(subchunk_length) # 하위데이터 길이를 arange로 생성\n",
    "#     print(\"indices:\",indices)\n",
    "\n",
    "    indexer = np.expand_dims(indices, axis=0) + np.expand_dims(shift_starts, axis=1)\n",
    "    # 하위데이터의 길이 + 시작데이터가 움직인 위치를 이용해 데이터 차원을 확장한다.\n",
    "#     print(\"indexer:\",indexer)\n",
    "#     print(np.expand_dims(indices, axis=0))\n",
    "#     print(np.expand_dims(shift_starts, axis=1))\n",
    "#     print(\"np.asarray(x)[indexer]:\",np.asarray(x)[indexer])\n",
    "    return np.asarray(x)[indexer] # 분할된 최종 결과물"
   ]
  },
  {
   "cell_type": "code",
   "execution_count": 18,
   "metadata": {},
   "outputs": [
    {
     "data": {
      "text/plain": [
       "array([[ 0,  2,  4],\n",
       "       [ 2,  4,  6],\n",
       "       [ 4,  6,  8],\n",
       "       [ 6,  8, 10],\n",
       "       [ 8, 10, 12]])"
      ]
     },
     "execution_count": 18,
     "metadata": {},
     "output_type": "execute_result"
    }
   ],
   "source": [
    "x = [0,2,4,6,8,10,12]\n",
    "into = _into_subchunks(x, 3, every_n=1)\n",
    "into"
   ]
  },
  {
   "cell_type": "code",
   "execution_count": 19,
   "metadata": {},
   "outputs": [],
   "source": [
    "def sample_entropy(x):\n",
    "    x = np.array(x) # 입력된 시계열 데이터\n",
    "\n",
    "    if np.isnan(x).any(): # Nan 값이 있으면 계산을 진행하지 않는다.\n",
    "        return np.nan\n",
    "\n",
    "    m = 2  # embedding dimension 값, 일반적으로 2를 사용\n",
    "    tolerance = 0.2 * np.std(x)# 허용오차 값, 0.2 * 데이터의 표준편차, 일반적으로 0.2를 사용\n",
    "    print(\"tolerance:\", tolerance)\n",
    "    # 시계열 데이터를 m 길이로 저장한다.\n",
    "    # 예시: [1, 2, 3, 4] into [1, 2], [2, 3], [3, 4]\n",
    "    xm = _into_subchunks(x, m)\n",
    "#     print(\"xm:\",xm)\n",
    "\n",
    "    B = np.sum([np.sum(np.abs(xmi - xm).max(axis=1) <= tolerance) - 1 for xmi in xm])\n",
    "    for xmi in xm:\n",
    "#         print(np.abs(xmi - xm)) # subchunk 데이터끼리 거리 차이의 절대값\n",
    "        print(np.abs(xmi - xm).max(axis=1)) # 절대값 중 최대값\n",
    "        print(np.sum(np.abs(xmi - xm).max(axis=1))) # 최대값의 컬럼을 합친다.\n",
    "        print(np.sum(np.abs(xmi - xm).max(axis=1) <= tolerance)) # tolerance를 기준으로 값을 구한다\n",
    "    # print([np.sum(np.abs(xmi - xm).max(axis=1) <= tolerance) - 1 for xmi in xm])\n",
    "    # np.abs(xmi - xm).max(axis=1)를 통해 최대 거리 값을 구한다.\n",
    "    # <= tolerance 최대 거리 값이 허용오차 값 아래에 얼마나 있는지 확인한다.\n",
    "    # 계산 효율을 위해 이중 for문이 아닌 numpy를 이용한 단순 for문으로 위 과정을 반복\n",
    "    # 반복해서 B를 구한다.\n",
    "    print(\"B:\", B)\n",
    "\n",
    "    # Similar for computing A\n",
    "    xmp1 = _into_subchunks(x, m + 1)\n",
    "    # A도 m+1을 해서 같은 과정으로 계산한다.\n",
    "\n",
    "    A = np.sum(\n",
    "        [np.sum(np.abs(xmi - xmp1).max(axis=1) <= tolerance) - 1 for xmi in xmp1]\n",
    "    )\n",
    "    print(\"A:\", A)\n",
    "\n",
    "    # Return SampEn\n",
    "    print(\"SampEn:\", -np.log(A / B))\n",
    "    return -np.log(A / B)"
   ]
  },
  {
   "cell_type": "code",
   "execution_count": 24,
   "metadata": {},
   "outputs": [],
   "source": [
    "m = 2 \n",
    "tolerance = 0.2 * np.std(x)"
   ]
  },
  {
   "cell_type": "code",
   "execution_count": 25,
   "metadata": {},
   "outputs": [
    {
     "data": {
      "text/plain": [
       "array([[ 0,  2],\n",
       "       [ 2,  4],\n",
       "       [ 4,  6],\n",
       "       [ 6,  8],\n",
       "       [ 8, 10],\n",
       "       [10, 12]])"
      ]
     },
     "execution_count": 25,
     "metadata": {},
     "output_type": "execute_result"
    }
   ],
   "source": [
    "xm = _into_subchunks(x, m)\n",
    "xm"
   ]
  },
  {
   "cell_type": "code",
   "execution_count": 26,
   "metadata": {},
   "outputs": [
    {
     "name": "stdout",
     "output_type": "stream",
     "text": [
      "[[ 0  0]\n",
      " [ 2  2]\n",
      " [ 4  4]\n",
      " [ 6  6]\n",
      " [ 8  8]\n",
      " [10 10]]\n",
      "[ 0  2  4  6  8 10]\n",
      "30\n",
      "1\n",
      "[[2 2]\n",
      " [0 0]\n",
      " [2 2]\n",
      " [4 4]\n",
      " [6 6]\n",
      " [8 8]]\n",
      "[2 0 2 4 6 8]\n",
      "22\n",
      "1\n",
      "[[4 4]\n",
      " [2 2]\n",
      " [0 0]\n",
      " [2 2]\n",
      " [4 4]\n",
      " [6 6]]\n",
      "[4 2 0 2 4 6]\n",
      "18\n",
      "1\n",
      "[[6 6]\n",
      " [4 4]\n",
      " [2 2]\n",
      " [0 0]\n",
      " [2 2]\n",
      " [4 4]]\n",
      "[6 4 2 0 2 4]\n",
      "18\n",
      "1\n",
      "[[8 8]\n",
      " [6 6]\n",
      " [4 4]\n",
      " [2 2]\n",
      " [0 0]\n",
      " [2 2]]\n",
      "[8 6 4 2 0 2]\n",
      "22\n",
      "1\n",
      "[[10 10]\n",
      " [ 8  8]\n",
      " [ 6  6]\n",
      " [ 4  4]\n",
      " [ 2  2]\n",
      " [ 0  0]]\n",
      "[10  8  6  4  2  0]\n",
      "30\n",
      "1\n"
     ]
    }
   ],
   "source": [
    "# B 구하는 과정\n",
    "for xmi in xm:\n",
    "        print(np.abs(xmi - xm)) # subchunk 데이터끼리 거리 차이의 절대값\n",
    "        print(np.abs(xmi - xm).max(axis=1)) # 절대값 중 최대값\n",
    "        print(np.sum(np.abs(xmi - xm).max(axis=1))) # 최대값의 컬럼을 합친다.\n",
    "        print(np.sum(np.abs(xmi - xm).max(axis=1) <= tolerance)) # tolerance를 기준으로 값을 구한다"
   ]
  },
  {
   "cell_type": "code",
   "execution_count": 20,
   "metadata": {},
   "outputs": [
    {
     "name": "stdout",
     "output_type": "stream",
     "text": [
      "tolerance: 0.0679869268479038\n",
      "[0 1 1 1 1 1 1 1 1 1 1 1 1 0]\n",
      "12\n",
      "2\n",
      "[1 0 1 1 1 1 1 1 1 1 1 1 1 1]\n",
      "13\n",
      "1\n",
      "[1 1 0 0 0 0 0 0 0 0 0 0 0 1]\n",
      "3\n",
      "11\n",
      "[1 1 0 0 0 0 0 0 0 0 0 0 0 1]\n",
      "3\n",
      "11\n",
      "[1 1 0 0 0 0 0 0 0 0 0 0 0 1]\n",
      "3\n",
      "11\n",
      "[1 1 0 0 0 0 0 0 0 0 0 0 0 1]\n",
      "3\n",
      "11\n",
      "[1 1 0 0 0 0 0 0 0 0 0 0 0 1]\n",
      "3\n",
      "11\n",
      "[1 1 0 0 0 0 0 0 0 0 0 0 0 1]\n",
      "3\n",
      "11\n",
      "[1 1 0 0 0 0 0 0 0 0 0 0 0 1]\n",
      "3\n",
      "11\n",
      "[1 1 0 0 0 0 0 0 0 0 0 0 0 1]\n",
      "3\n",
      "11\n",
      "[1 1 0 0 0 0 0 0 0 0 0 0 0 1]\n",
      "3\n",
      "11\n",
      "[1 1 0 0 0 0 0 0 0 0 0 0 0 1]\n",
      "3\n",
      "11\n",
      "[1 1 0 0 0 0 0 0 0 0 0 0 0 1]\n",
      "3\n",
      "11\n",
      "[0 1 1 1 1 1 1 1 1 1 1 1 1 0]\n",
      "12\n",
      "2\n",
      "B: 112\n",
      "A: 90\n",
      "SampEn: 0.21868920096482944\n"
     ]
    },
    {
     "data": {
      "text/plain": [
       "0.21868920096482944"
      ]
     },
     "execution_count": 20,
     "metadata": {},
     "output_type": "execute_result"
    }
   ],
   "source": [
    "# print(a)\n",
    "sample_entropy(a)"
   ]
  },
  {
   "cell_type": "markdown",
   "metadata": {},
   "source": [
    "자른 데이터로 다시 sample entropy를 구한다."
   ]
  },
  {
   "cell_type": "code",
   "execution_count": 21,
   "metadata": {},
   "outputs": [
    {
     "name": "stderr",
     "output_type": "stream",
     "text": [
      "Feature Extraction: 100%|██████████| 1/1 [00:00<00:00, 1630.76it/s]\n"
     ]
    }
   ],
   "source": [
    "sample_entropy = extract_features(df2, column_id='id', column_sort='time',\n",
    "                     default_fc_parameters=sampen_settings,\n",
    "                     # we impute = remove all NaN features automatically\n",
    "                     impute_function=impute)"
   ]
  },
  {
   "cell_type": "code",
   "execution_count": 22,
   "metadata": {},
   "outputs": [
    {
     "data": {
      "text/html": [
       "<div>\n",
       "<style scoped>\n",
       "    .dataframe tbody tr th:only-of-type {\n",
       "        vertical-align: middle;\n",
       "    }\n",
       "\n",
       "    .dataframe tbody tr th {\n",
       "        vertical-align: top;\n",
       "    }\n",
       "\n",
       "    .dataframe thead th {\n",
       "        text-align: right;\n",
       "    }\n",
       "</style>\n",
       "<table border=\"1\" class=\"dataframe\">\n",
       "  <thead>\n",
       "    <tr style=\"text-align: right;\">\n",
       "      <th></th>\n",
       "      <th>F_y__sample_entropy</th>\n",
       "    </tr>\n",
       "  </thead>\n",
       "  <tbody>\n",
       "    <tr>\n",
       "      <th>1</th>\n",
       "      <td>0.218689</td>\n",
       "    </tr>\n",
       "  </tbody>\n",
       "</table>\n",
       "</div>"
      ],
      "text/plain": [
       "   F_y__sample_entropy\n",
       "1             0.218689"
      ]
     },
     "execution_count": 22,
     "metadata": {},
     "output_type": "execute_result"
    }
   ],
   "source": [
    "sample_entropy"
   ]
  },
  {
   "cell_type": "markdown",
   "metadata": {},
   "source": [
    "F_y__sample_entropy = 0.218689로 두 방법이 같은 값이 나온다."
   ]
  },
  {
   "cell_type": "code",
   "execution_count": null,
   "metadata": {},
   "outputs": [],
   "source": []
  }
 ],
 "metadata": {
  "kernelspec": {
   "display_name": "Python 3",
   "language": "python",
   "name": "python3"
  },
  "language_info": {
   "codemirror_mode": {
    "name": "ipython",
    "version": 3
   },
   "file_extension": ".py",
   "mimetype": "text/x-python",
   "name": "python",
   "nbconvert_exporter": "python",
   "pygments_lexer": "ipython3",
   "version": "3.6.9"
  }
 },
 "nbformat": 4,
 "nbformat_minor": 4
}
